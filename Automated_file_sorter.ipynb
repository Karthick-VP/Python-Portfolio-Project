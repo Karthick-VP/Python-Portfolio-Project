{
 "cells": [
  {
   "cell_type": "markdown",
   "metadata": {},
   "source": [
    "AUTOMATIC FILE SORTING IN FILE EXPLORER"
   ]
  },
  {
   "cell_type": "code",
   "execution_count": 1,
   "metadata": {},
   "outputs": [],
   "source": [
    "import os, shutil"
   ]
  },
  {
   "cell_type": "code",
   "execution_count": null,
   "metadata": {},
   "outputs": [],
   "source": [
    "path=\"C:/Users/benkapka/Pictures/sample/\""
   ]
  },
  {
   "cell_type": "code",
   "execution_count": null,
   "metadata": {},
   "outputs": [],
   "source": [
    "file_name=os.listdir(path)"
   ]
  },
  {
   "cell_type": "code",
   "execution_count": null,
   "metadata": {},
   "outputs": [],
   "source": [
    "folder_names=['docfiles','jpgfiles','pdffiles']"
   ]
  },
  {
   "cell_type": "code",
   "execution_count": null,
   "metadata": {},
   "outputs": [],
   "source": [
    "#Creating a folder for each file types\n",
    "for loop in range(0,3):\n",
    "    if not os.path.exists(path+ folder_names[loop]):\n",
    "        print(path + folder_names[loop])\n",
    "        os.makedirs(path + folder_names[loop])\n",
    "\n",
    "#Moving the files to thier respective files\n",
    "for file in file_name:\n",
    "    if \"doc\" in file and not os.path.exists(path+ \"doc files/\" + file):\n",
    "        shutil.move(path+ file,path+\"docfiles/\"+ file)\n",
    "    elif \"jpg\" in file and not os.path.exists(path+\"jpg files/\"+ file):\n",
    "        shutil.move(path+ file,path+\"jpgfiles/\"+ file)\n",
    "    elif \"pdf\" in file and not os.path.exists(path+\"pdf files/\"+ file):\n",
    "        shutil.move(path+ file,path+\"pdffiles/\"+ file)\n"
   ]
  }
 ],
 "metadata": {
  "kernelspec": {
   "display_name": "Python 3",
   "language": "python",
   "name": "python3"
  },
  "language_info": {
   "codemirror_mode": {
    "name": "ipython",
    "version": 3
   },
   "file_extension": ".py",
   "mimetype": "text/x-python",
   "name": "python",
   "nbconvert_exporter": "python",
   "pygments_lexer": "ipython3",
   "version": "3.11.9"
  }
 },
 "nbformat": 4,
 "nbformat_minor": 2
}
